{
 "cells": [
  {
   "cell_type": "code",
   "execution_count": 1,
   "metadata": {
    "collapsed": true
   },
   "outputs": [],
   "source": [
    "# data \n",
    "\n",
    "# PacBio recommended barcodes \n",
    "# FORWARD (U1) 5’-GCAGTCGAACATGTAGCTGACTCAGGTCAC-3’\n",
    "# REVERSE (U2) 5’-TGGATCACTTGTGCAAGCATCACATCGTAG-3’\n",
    "\n",
    "# Sanger primers sequences for our test run are \n",
    "# T7 (forward): 5'-TAATACGACTCACTATAGGG-3'\n",
    "# T7term (reverse): 5'-GCTAGTTATTGCTCAGCGG-3'"
   ]
  },
  {
   "cell_type": "code",
   "execution_count": null,
   "metadata": {
    "collapsed": true
   },
   "outputs": [],
   "source": []
  }
 ],
 "metadata": {
  "kernelspec": {
   "display_name": "Python 3",
   "language": "python",
   "name": "python3"
  },
  "language_info": {
   "codemirror_mode": {
    "name": "ipython",
    "version": 3
   },
   "file_extension": ".py",
   "mimetype": "text/x-python",
   "name": "python",
   "nbconvert_exporter": "python",
   "pygments_lexer": "ipython3",
   "version": "3.6.0"
  }
 },
 "nbformat": 4,
 "nbformat_minor": 2
}
