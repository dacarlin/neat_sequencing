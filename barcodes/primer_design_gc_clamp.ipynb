{
 "cells": [
  {
   "cell_type": "code",
   "execution_count": 1,
   "metadata": {
    "collapsed": true
   },
   "outputs": [],
   "source": [
    "%matplotlib inline"
   ]
  },
  {
   "cell_type": "code",
   "execution_count": 2,
   "metadata": {
    "collapsed": true
   },
   "outputs": [],
   "source": [
    "import numpy as np \n",
    "import pandas \n",
    "from itertools import product, combinations\n",
    "from primer3 import calcHomodimer, calcHeterodimer, calcTm"
   ]
  },
  {
   "cell_type": "code",
   "execution_count": 3,
   "metadata": {
    "collapsed": true
   },
   "outputs": [],
   "source": [
    "# generate all possible 8-mer DNA sequences without homopolymers\n",
    "# we want to avoid homopolyers in our barcodes "
   ]
  },
  {
   "cell_type": "code",
   "execution_count": 4,
   "metadata": {
    "collapsed": true
   },
   "outputs": [],
   "source": [
    "alphabet = 'ATCG'"
   ]
  },
  {
   "cell_type": "code",
   "execution_count": 5,
   "metadata": {
    "collapsed": true
   },
   "outputs": [],
   "source": [
    "def has_homopolymers( sequence ):\n",
    "    for i in range( len( sequence ) - 1 ):\n",
    "        if sequence[ i ] == sequence[ i + 1 ]:\n",
    "            return True \n",
    "    return False"
   ]
  },
  {
   "cell_type": "code",
   "execution_count": 6,
   "metadata": {
    "collapsed": false
   },
   "outputs": [],
   "source": [
    "barcode_length = 12 \n",
    "barcodes = []\n",
    "for combo in product( alphabet, repeat=barcode_length ):\n",
    "    if not has_homopolymers( combo ):\n",
    "        barcodes.append( ''.join( combo ) )"
   ]
  },
  {
   "cell_type": "code",
   "execution_count": 7,
   "metadata": {
    "collapsed": true
   },
   "outputs": [],
   "source": [
    "# primer sequences for our test run are \n",
    "# T7 (forward): 5'-TAATACGACTCACTATAGGG-3'\n",
    "# T7term (reverse): 5'-GCTAGTTATTGCTCAGCGG-3'\n",
    "# we will add barcodes to the 5' end of both primers \n",
    "# assume the Tm of the T7 primers is good as is"
   ]
  },
  {
   "cell_type": "code",
   "execution_count": 8,
   "metadata": {
    "collapsed": true
   },
   "outputs": [],
   "source": [
    "# calculate the propensity of the primers to dimerize "
   ]
  },
  {
   "cell_type": "code",
   "execution_count": 9,
   "metadata": {
    "collapsed": true
   },
   "outputs": [],
   "source": [
    "# so this works for generic Sanger primer, \n",
    "# we make these variables "
   ]
  },
  {
   "cell_type": "code",
   "execution_count": 10,
   "metadata": {
    "collapsed": true
   },
   "outputs": [],
   "source": [
    "forward_sanger_primer = 'TAATACGACTCACTATAGGG'\n",
    "reverse_sanger_primer = 'GCTAGTTATTGCTCAGCGG'"
   ]
  },
  {
   "cell_type": "code",
   "execution_count": 11,
   "metadata": {
    "collapsed": false
   },
   "outputs": [
    {
     "name": "stdout",
     "output_type": "stream",
     "text": [
      "44.59, 50.61\n"
     ]
    }
   ],
   "source": [
    "# describe the input primers \n",
    "\n",
    "forward_seq_primer_tm = calcTm( forward_sanger_primer ) \n",
    "reverse_seq_primer_tm = calcTm( reverse_sanger_primer ) \n",
    "\n",
    "print( '{0:2.2f}, {1:2.2f}'.format( forward_seq_primer_tm, reverse_seq_primer_tm ) )\n",
    "\n",
    "wt_tm = { 'forward': forward_seq_primer_tm, 'reverse': reverse_seq_primer_tm } "
   ]
  },
  {
   "cell_type": "code",
   "execution_count": 12,
   "metadata": {
    "collapsed": false
   },
   "outputs": [],
   "source": [
    "fwd_primers = [ 'GC' + b + forward_sanger_primer for b in barcodes ]\n",
    "rev_primers = [ 'GC' + b + reverse_sanger_primer for b in barcodes ]"
   ]
  },
  {
   "cell_type": "code",
   "execution_count": 13,
   "metadata": {
    "collapsed": false,
    "scrolled": true
   },
   "outputs": [
    {
     "data": {
      "text/html": [
       "<div>\n",
       "<table border=\"1\" class=\"dataframe\">\n",
       "  <thead>\n",
       "    <tr style=\"text-align: right;\">\n",
       "      <th></th>\n",
       "      <th>sequence</th>\n",
       "      <th>direction</th>\n",
       "    </tr>\n",
       "  </thead>\n",
       "  <tbody>\n",
       "    <tr>\n",
       "      <th>1075155</th>\n",
       "      <td>GCCATCGTGTCTGAGCTAGTTATTGCTCAGCGG</td>\n",
       "      <td>reverse</td>\n",
       "    </tr>\n",
       "    <tr>\n",
       "      <th>1381380</th>\n",
       "      <td>GCGCTACTGCATGAGCTAGTTATTGCTCAGCGG</td>\n",
       "      <td>reverse</td>\n",
       "    </tr>\n",
       "  </tbody>\n",
       "</table>\n",
       "</div>"
      ],
      "text/plain": [
       "                                  sequence direction\n",
       "1075155  GCCATCGTGTCTGAGCTAGTTATTGCTCAGCGG   reverse\n",
       "1381380  GCGCTACTGCATGAGCTAGTTATTGCTCAGCGG   reverse"
      ]
     },
     "execution_count": 13,
     "metadata": {},
     "output_type": "execute_result"
    }
   ],
   "source": [
    "# let's make a DataFrame out of this right now \n",
    "data = [ ( fwd_primer, 'forward' ) for fwd_primer in fwd_primers ] + [ ( rev_primer, 'reverse' ) for rev_primer in rev_primers ] \n",
    "df = pandas.DataFrame( data, columns=['sequence', 'direction'] )\n",
    "df.sample( 2 ) "
   ]
  },
  {
   "cell_type": "code",
   "execution_count": 14,
   "metadata": {
    "collapsed": false
   },
   "outputs": [
    {
     "data": {
      "text/html": [
       "<div>\n",
       "<table border=\"1\" class=\"dataframe\">\n",
       "  <thead>\n",
       "    <tr style=\"text-align: right;\">\n",
       "      <th></th>\n",
       "      <th>sequence</th>\n",
       "      <th>direction</th>\n",
       "      <th>primary_tm</th>\n",
       "      <th>secondary_tm</th>\n",
       "    </tr>\n",
       "  </thead>\n",
       "  <tbody>\n",
       "    <tr>\n",
       "      <th>281886</th>\n",
       "      <td>GCTCGAGCGATAGATAATACGACTCACTATAGGG</td>\n",
       "      <td>forward</td>\n",
       "      <td>44.591869</td>\n",
       "      <td>60.621314</td>\n",
       "    </tr>\n",
       "    <tr>\n",
       "      <th>24993</th>\n",
       "      <td>GCATCAGTAGTGATTAATACGACTCACTATAGGG</td>\n",
       "      <td>forward</td>\n",
       "      <td>44.591869</td>\n",
       "      <td>58.163780</td>\n",
       "    </tr>\n",
       "  </tbody>\n",
       "</table>\n",
       "</div>"
      ],
      "text/plain": [
       "                                  sequence direction  primary_tm  secondary_tm\n",
       "281886  GCTCGAGCGATAGATAATACGACTCACTATAGGG   forward   44.591869     60.621314\n",
       "24993   GCATCAGTAGTGATTAATACGACTCACTATAGGG   forward   44.591869     58.163780"
      ]
     },
     "execution_count": 14,
     "metadata": {},
     "output_type": "execute_result"
    }
   ],
   "source": [
    "# calc Tm for each \n",
    "\n",
    "df[ 'primary_tm' ] = list( map( lambda x: wt_tm[x], df.direction ) ) \n",
    "df[ 'secondary_tm' ] = list( map( calcTm, df.sequence ) ) \n",
    "df.sample( 2 ) "
   ]
  },
  {
   "cell_type": "code",
   "execution_count": 15,
   "metadata": {
    "collapsed": false
   },
   "outputs": [],
   "source": [
    "# # exclude homodimers \n",
    "\n",
    "# df[ 'homodimer' ] = list( map( lambda x: calcHomodimer( x ).structure_found, df.sequence ) )\n",
    "# df.sample( 2 ) \n",
    "\n",
    "# # fwd_primers = list( filter( lambda x: calcHomodimer( x ).structure_found, fwd_primers ) ) \n",
    "# # rev_primers = list( filter( lambda x: calcHomodimer( x ).structure_found, rev_primers ) ) \n",
    "# # print( len( fwd_primers) )\n",
    "# # print( len( rev_primers) )\n",
    "# # I guess there are none "
   ]
  },
  {
   "cell_type": "code",
   "execution_count": 16,
   "metadata": {
    "collapsed": true
   },
   "outputs": [],
   "source": [
    "# so, now let's filter this list down \n",
    "\n",
    "# first, let's exclude the homopolymers we accidentally introduced \n",
    "# that arise because the barcode is next to the sequencing primer \n",
    "# remove these homopolymers \n",
    "\n",
    "# second, calculate the secondary Tm (Tm of entire barcode+primer pair) \n",
    "# throw out if the secondary Tm is too far from the original Tm\n",
    "# is there a way to set up the PCR that will work for a wide variety of Tm? \n",
    "\n",
    "# third, of all of the primers that pass, form a pool and calculate the propensity \n",
    "# of hetreodimeriztion pairwise until they are pairwise independent\n",
    "\n",
    "# only then think about Hamming distances\n",
    "# I'm guessing 100 "
   ]
  },
  {
   "cell_type": "code",
   "execution_count": 17,
   "metadata": {
    "collapsed": false
   },
   "outputs": [
    {
     "data": {
      "text/html": [
       "<div>\n",
       "<table border=\"1\" class=\"dataframe\">\n",
       "  <thead>\n",
       "    <tr style=\"text-align: right;\">\n",
       "      <th></th>\n",
       "      <th>sequence</th>\n",
       "      <th>direction</th>\n",
       "      <th>primary_tm</th>\n",
       "      <th>secondary_tm</th>\n",
       "      <th>introduced_homopolymers</th>\n",
       "    </tr>\n",
       "  </thead>\n",
       "  <tbody>\n",
       "    <tr>\n",
       "      <th>1345536</th>\n",
       "      <td>GCGTGTATGACGATGCTAGTTATTGCTCAGCGG</td>\n",
       "      <td>reverse</td>\n",
       "      <td>50.612736</td>\n",
       "      <td>64.254941</td>\n",
       "      <td>False</td>\n",
       "    </tr>\n",
       "    <tr>\n",
       "      <th>1326391</th>\n",
       "      <td>GCGTCTACTCACGTGCTAGTTATTGCTCAGCGG</td>\n",
       "      <td>reverse</td>\n",
       "      <td>50.612736</td>\n",
       "      <td>65.250066</td>\n",
       "      <td>False</td>\n",
       "    </tr>\n",
       "  </tbody>\n",
       "</table>\n",
       "</div>"
      ],
      "text/plain": [
       "                                  sequence direction  primary_tm  \\\n",
       "1345536  GCGTGTATGACGATGCTAGTTATTGCTCAGCGG   reverse   50.612736   \n",
       "1326391  GCGTCTACTCACGTGCTAGTTATTGCTCAGCGG   reverse   50.612736   \n",
       "\n",
       "         secondary_tm introduced_homopolymers  \n",
       "1345536     64.254941                   False  \n",
       "1326391     65.250066                   False  "
      ]
     },
     "execution_count": 17,
     "metadata": {},
     "output_type": "execute_result"
    }
   ],
   "source": [
    "def check_introduced_homopolymers( sequence, barcode_length ):\n",
    "    # barcode is on the 5' end of the sequence\n",
    "    if sequence[ barcode_length ] == sequence[ barcode_length - 1 ]:\n",
    "        return True \n",
    "    else:\n",
    "        return False \n",
    "    \n",
    "df[ 'introduced_homopolymers' ] = df.sequence.map( lambda x: check_introduced_homopolymers( x, barcode_length + 2 ) )\n",
    "df.sample( 2 ) "
   ]
  },
  {
   "cell_type": "code",
   "execution_count": 18,
   "metadata": {
    "collapsed": false,
    "scrolled": false
   },
   "outputs": [
    {
     "data": {
      "text/html": [
       "<div>\n",
       "<table border=\"1\" class=\"dataframe\">\n",
       "  <thead>\n",
       "    <tr style=\"text-align: right;\">\n",
       "      <th></th>\n",
       "      <th>sequence</th>\n",
       "      <th>direction</th>\n",
       "      <th>primary_tm</th>\n",
       "      <th>secondary_tm</th>\n",
       "      <th>introduced_homopolymers</th>\n",
       "    </tr>\n",
       "  </thead>\n",
       "  <tbody>\n",
       "    <tr>\n",
       "      <th>972501</th>\n",
       "      <td>GCTCTCAGATACGAGCTAGTTATTGCTCAGCGG</td>\n",
       "      <td>reverse</td>\n",
       "      <td>50.612736</td>\n",
       "      <td>63.206257</td>\n",
       "      <td>False</td>\n",
       "    </tr>\n",
       "    <tr>\n",
       "      <th>307788</th>\n",
       "      <td>GCTGACGCACGTGATAATACGACTCACTATAGGG</td>\n",
       "      <td>forward</td>\n",
       "      <td>44.591869</td>\n",
       "      <td>62.948908</td>\n",
       "      <td>False</td>\n",
       "    </tr>\n",
       "    <tr>\n",
       "      <th>27804</th>\n",
       "      <td>GCATCTAGACAGTATAATACGACTCACTATAGGG</td>\n",
       "      <td>forward</td>\n",
       "      <td>44.591869</td>\n",
       "      <td>57.487200</td>\n",
       "      <td>False</td>\n",
       "    </tr>\n",
       "    <tr>\n",
       "      <th>989585</th>\n",
       "      <td>GCTCGAGTCTATGCGCTAGTTATTGCTCAGCGG</td>\n",
       "      <td>reverse</td>\n",
       "      <td>50.612736</td>\n",
       "      <td>65.178618</td>\n",
       "      <td>False</td>\n",
       "    </tr>\n",
       "    <tr>\n",
       "      <th>1333835</th>\n",
       "      <td>GCGTCGAGCATAGCGCTAGTTATTGCTCAGCGG</td>\n",
       "      <td>reverse</td>\n",
       "      <td>50.612736</td>\n",
       "      <td>67.109905</td>\n",
       "      <td>False</td>\n",
       "    </tr>\n",
       "    <tr>\n",
       "      <th>106422</th>\n",
       "      <td>GCACGTACGCGTGATAATACGACTCACTATAGGG</td>\n",
       "      <td>forward</td>\n",
       "      <td>44.591869</td>\n",
       "      <td>62.972697</td>\n",
       "      <td>False</td>\n",
       "    </tr>\n",
       "    <tr>\n",
       "      <th>1146216</th>\n",
       "      <td>GCCTCAGATGCTCAGCTAGTTATTGCTCAGCGG</td>\n",
       "      <td>reverse</td>\n",
       "      <td>50.612736</td>\n",
       "      <td>65.168800</td>\n",
       "      <td>False</td>\n",
       "    </tr>\n",
       "    <tr>\n",
       "      <th>1314003</th>\n",
       "      <td>GCGTAGAGTCAGTAGCTAGTTATTGCTCAGCGG</td>\n",
       "      <td>reverse</td>\n",
       "      <td>50.612736</td>\n",
       "      <td>63.159162</td>\n",
       "      <td>False</td>\n",
       "    </tr>\n",
       "    <tr>\n",
       "      <th>521848</th>\n",
       "      <td>GCCGCTCTGTCGACTAATACGACTCACTATAGGG</td>\n",
       "      <td>forward</td>\n",
       "      <td>44.591869</td>\n",
       "      <td>63.661757</td>\n",
       "      <td>False</td>\n",
       "    </tr>\n",
       "    <tr>\n",
       "      <th>1234978</th>\n",
       "      <td>GCCGCGAGATCGCTGCTAGTTATTGCTCAGCGG</td>\n",
       "      <td>reverse</td>\n",
       "      <td>50.612736</td>\n",
       "      <td>68.531299</td>\n",
       "      <td>False</td>\n",
       "    </tr>\n",
       "  </tbody>\n",
       "</table>\n",
       "</div>"
      ],
      "text/plain": [
       "                                   sequence direction  primary_tm  \\\n",
       "972501    GCTCTCAGATACGAGCTAGTTATTGCTCAGCGG   reverse   50.612736   \n",
       "307788   GCTGACGCACGTGATAATACGACTCACTATAGGG   forward   44.591869   \n",
       "27804    GCATCTAGACAGTATAATACGACTCACTATAGGG   forward   44.591869   \n",
       "989585    GCTCGAGTCTATGCGCTAGTTATTGCTCAGCGG   reverse   50.612736   \n",
       "1333835   GCGTCGAGCATAGCGCTAGTTATTGCTCAGCGG   reverse   50.612736   \n",
       "106422   GCACGTACGCGTGATAATACGACTCACTATAGGG   forward   44.591869   \n",
       "1146216   GCCTCAGATGCTCAGCTAGTTATTGCTCAGCGG   reverse   50.612736   \n",
       "1314003   GCGTAGAGTCAGTAGCTAGTTATTGCTCAGCGG   reverse   50.612736   \n",
       "521848   GCCGCTCTGTCGACTAATACGACTCACTATAGGG   forward   44.591869   \n",
       "1234978   GCCGCGAGATCGCTGCTAGTTATTGCTCAGCGG   reverse   50.612736   \n",
       "\n",
       "         secondary_tm introduced_homopolymers  \n",
       "972501      63.206257                   False  \n",
       "307788      62.948908                   False  \n",
       "27804       57.487200                   False  \n",
       "989585      65.178618                   False  \n",
       "1333835     67.109905                   False  \n",
       "106422      62.972697                   False  \n",
       "1146216     65.168800                   False  \n",
       "1314003     63.159162                   False  \n",
       "521848      63.661757                   False  \n",
       "1234978     68.531299                   False  "
      ]
     },
     "execution_count": 18,
     "metadata": {},
     "output_type": "execute_result"
    }
   ],
   "source": [
    "df.sample( 10 ) "
   ]
  },
  {
   "cell_type": "code",
   "execution_count": 19,
   "metadata": {
    "collapsed": false
   },
   "outputs": [
    {
     "data": {
      "text/plain": [
       "0.7647058823529411"
      ]
     },
     "execution_count": 19,
     "metadata": {},
     "output_type": "execute_result"
    }
   ],
   "source": [
    "def hamming_distance( u, v ): \n",
    "    same = 0 \n",
    "    if len( u ) == len( v ):\n",
    "        for i, j in zip( u, v ):\n",
    "            if i == j:\n",
    "                same += 1 \n",
    "        return same / len( u ) \n",
    "    \n",
    "hamming_distance( \n",
    "    'GCGAGATGCTACGCTAATACGACTCACTATAGGG',\n",
    "    'GCGTGTCAGTCAGTTAATACGACTCACTATAGGG', \n",
    ") "
   ]
  },
  {
   "cell_type": "code",
   "execution_count": 23,
   "metadata": {
    "collapsed": true
   },
   "outputs": [],
   "source": [
    "%load_ext Cython"
   ]
  },
  {
   "cell_type": "code",
   "execution_count": 24,
   "metadata": {
    "collapsed": false
   },
   "outputs": [],
   "source": [
    "%%cython \n",
    "\n",
    "cdef chamming_distance( u, v ):\n",
    "    same = 0 \n",
    "    if len( u ) == len( v ):\n",
    "        for i, j in zip( u, v ):\n",
    "            if i == j:\n",
    "                same += 1 \n",
    "        return same / len( u ) \n",
    "    \n",
    "def cyhamming_distance( u, v ):\n",
    "    return chamming_distance( u, v ) "
   ]
  },
  {
   "cell_type": "code",
   "execution_count": 32,
   "metadata": {
    "collapsed": false
   },
   "outputs": [
    {
     "name": "stdout",
     "output_type": "stream",
     "text": [
      "100000 loops, best of 3: 5.61 µs per loop\n"
     ]
    }
   ],
   "source": [
    "%%timeit \n",
    "\n",
    "hamming_distance( \n",
    "    'GCGAGATGCTACGCTAATACGACTCACTATAGGG',\n",
    "    'GCGTGTCAGTCAGTTAATACGACTCACTATAGGG', \n",
    ") "
   ]
  },
  {
   "cell_type": "code",
   "execution_count": 33,
   "metadata": {
    "collapsed": false
   },
   "outputs": [
    {
     "name": "stdout",
     "output_type": "stream",
     "text": [
      "The slowest run took 4.12 times longer than the fastest. This could mean that an intermediate result is being cached.\n",
      "100000 loops, best of 3: 2.86 µs per loop\n"
     ]
    }
   ],
   "source": [
    "%%timeit \n",
    "\n",
    "cyhamming_distance( \n",
    "    'GCGAGATGCTACGCTAATACGACTCACTATAGGG',\n",
    "    'GCGTGTCAGTCAGTTAATACGACTCACTATAGGG', \n",
    ") "
   ]
  },
  {
   "cell_type": "code",
   "execution_count": null,
   "metadata": {
    "collapsed": true
   },
   "outputs": [],
   "source": [
    "for i, j in combinations( df."
   ]
  }
 ],
 "metadata": {
  "kernelspec": {
   "display_name": "Python [default]",
   "language": "python",
   "name": "python3"
  },
  "language_info": {
   "codemirror_mode": {
    "name": "ipython",
    "version": 3
   },
   "file_extension": ".py",
   "mimetype": "text/x-python",
   "name": "python",
   "nbconvert_exporter": "python",
   "pygments_lexer": "ipython3",
   "version": "3.5.2"
  }
 },
 "nbformat": 4,
 "nbformat_minor": 2
}
