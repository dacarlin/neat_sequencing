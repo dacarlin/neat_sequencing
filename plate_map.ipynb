{
 "cells": [
  {
   "cell_type": "code",
   "execution_count": 1,
   "metadata": {
    "collapsed": false
   },
   "outputs": [
    {
     "data": {
      "text/plain": [
       "384"
      ]
     },
     "execution_count": 1,
     "metadata": {},
     "output_type": "execute_result"
    }
   ],
   "source": [
    "# plain text plate map can just be \n",
    "\n",
    "from itertools import product \n",
    "from string import ascii_uppercase\n",
    "import pandas\n",
    "\n",
    "wells = [ '{1}{0:02d}'.format( *n ) for n in product(range(1, 25), ascii_uppercase[0:16]) ] \n",
    "len( wells )"
   ]
  },
  {
   "cell_type": "code",
   "execution_count": 4,
   "metadata": {
    "collapsed": false
   },
   "outputs": [
    {
     "data": {
      "text/html": [
       "<div>\n",
       "<table border=\"1\" class=\"dataframe\">\n",
       "  <thead>\n",
       "    <tr style=\"text-align: right;\">\n",
       "      <th></th>\n",
       "      <th>sample_name</th>\n",
       "      <th>forward_primer</th>\n",
       "      <th>reverse_primer</th>\n",
       "    </tr>\n",
       "  </thead>\n",
       "  <tbody>\n",
       "    <tr>\n",
       "      <th>A01</th>\n",
       "      <td>NaN</td>\n",
       "      <td>NaN</td>\n",
       "      <td>NaN</td>\n",
       "    </tr>\n",
       "    <tr>\n",
       "      <th>B01</th>\n",
       "      <td>NaN</td>\n",
       "      <td>NaN</td>\n",
       "      <td>NaN</td>\n",
       "    </tr>\n",
       "    <tr>\n",
       "      <th>C01</th>\n",
       "      <td>NaN</td>\n",
       "      <td>NaN</td>\n",
       "      <td>NaN</td>\n",
       "    </tr>\n",
       "    <tr>\n",
       "      <th>D01</th>\n",
       "      <td>NaN</td>\n",
       "      <td>NaN</td>\n",
       "      <td>NaN</td>\n",
       "    </tr>\n",
       "    <tr>\n",
       "      <th>E01</th>\n",
       "      <td>NaN</td>\n",
       "      <td>NaN</td>\n",
       "      <td>NaN</td>\n",
       "    </tr>\n",
       "  </tbody>\n",
       "</table>\n",
       "</div>"
      ],
      "text/plain": [
       "    sample_name forward_primer reverse_primer\n",
       "A01         NaN            NaN            NaN\n",
       "B01         NaN            NaN            NaN\n",
       "C01         NaN            NaN            NaN\n",
       "D01         NaN            NaN            NaN\n",
       "E01         NaN            NaN            NaN"
      ]
     },
     "execution_count": 4,
     "metadata": {},
     "output_type": "execute_result"
    }
   ],
   "source": [
    "df = pandas.DataFrame( None, index=wells, columns=['sample_name', 'forward_primer', 'reverse_primer'] ) \n",
    "df.head()"
   ]
  },
  {
   "cell_type": "code",
   "execution_count": 5,
   "metadata": {
    "collapsed": true
   },
   "outputs": [],
   "source": [
    "# create template \n",
    "df.to_csv( 'static/neat_plain_text_template.csv' ) "
   ]
  },
  {
   "cell_type": "code",
   "execution_count": 7,
   "metadata": {
    "collapsed": false
   },
   "outputs": [
    {
     "data": {
      "text/html": [
       "<div>\n",
       "<table border=\"1\" class=\"dataframe\">\n",
       "  <thead>\n",
       "    <tr style=\"text-align: right;\">\n",
       "      <th></th>\n",
       "      <th>sample_name</th>\n",
       "      <th>forward_primer</th>\n",
       "      <th>reverse_primer</th>\n",
       "    </tr>\n",
       "  </thead>\n",
       "  <tbody>\n",
       "    <tr>\n",
       "      <th>A01</th>\n",
       "      <td>My sample 1000</td>\n",
       "      <td>T7</td>\n",
       "      <td>T7term</td>\n",
       "    </tr>\n",
       "    <tr>\n",
       "      <th>B01</th>\n",
       "      <td>My sample 1001</td>\n",
       "      <td>T7</td>\n",
       "      <td>T7term</td>\n",
       "    </tr>\n",
       "    <tr>\n",
       "      <th>C01</th>\n",
       "      <td>My sample 1002</td>\n",
       "      <td>T7</td>\n",
       "      <td>T7term</td>\n",
       "    </tr>\n",
       "    <tr>\n",
       "      <th>D01</th>\n",
       "      <td>My sample 1003</td>\n",
       "      <td>T7</td>\n",
       "      <td>T7term</td>\n",
       "    </tr>\n",
       "    <tr>\n",
       "      <th>E01</th>\n",
       "      <td>My sample 1004</td>\n",
       "      <td>T7</td>\n",
       "      <td>T7term</td>\n",
       "    </tr>\n",
       "  </tbody>\n",
       "</table>\n",
       "</div>"
      ],
      "text/plain": [
       "        sample_name forward_primer reverse_primer\n",
       "A01  My sample 1000             T7         T7term\n",
       "B01  My sample 1001             T7         T7term\n",
       "C01  My sample 1002             T7         T7term\n",
       "D01  My sample 1003             T7         T7term\n",
       "E01  My sample 1004             T7         T7term"
      ]
     },
     "execution_count": 7,
     "metadata": {},
     "output_type": "execute_result"
    }
   ],
   "source": [
    "# make an example for uploading here \n",
    "data = [ ( 'My sample {}'.format( i+1000 ), 'T7', 'T7term' ) for i in range( 384 ) ] \n",
    "example = pandas.DataFrame( data, index=wells, columns=['sample_name', 'forward_primer', 'reverse_primer'] ) \n",
    "example.head()"
   ]
  },
  {
   "cell_type": "code",
   "execution_count": 8,
   "metadata": {
    "collapsed": true
   },
   "outputs": [],
   "source": [
    "example.to_csv( '/Users/alex/Desktop/example_sequencing_order.csv' ) "
   ]
  },
  {
   "cell_type": "code",
   "execution_count": null,
   "metadata": {
    "collapsed": true
   },
   "outputs": [],
   "source": []
  }
 ],
 "metadata": {
  "kernelspec": {
   "display_name": "Python [conda root]",
   "language": "python",
   "name": "conda-root-py"
  },
  "language_info": {
   "codemirror_mode": {
    "name": "ipython",
    "version": 3
   },
   "file_extension": ".py",
   "mimetype": "text/x-python",
   "name": "python",
   "nbconvert_exporter": "python",
   "pygments_lexer": "ipython3",
   "version": "3.5.2"
  }
 },
 "nbformat": 4,
 "nbformat_minor": 2
}
