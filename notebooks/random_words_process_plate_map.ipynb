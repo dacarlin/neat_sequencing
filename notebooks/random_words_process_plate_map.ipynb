{
 "cells": [
  {
   "cell_type": "code",
   "execution_count": 122,
   "metadata": {
    "collapsed": true
   },
   "outputs": [],
   "source": [
    "%matplotlib inline\n",
    "import matplotlib.pyplot as plt \n",
    "import pandas \n",
    "import numpy as np "
   ]
  },
  {
   "cell_type": "code",
   "execution_count": 123,
   "metadata": {
    "collapsed": false
   },
   "outputs": [],
   "source": [
    "dfs = []\n",
    "n_pts = np.random.randint( 0, 100 )\n",
    "for pt in range( n_pts ):\n",
    "    n_samples = np.random.randint( 10, 384 )\n",
    "    dat = [( 'sample_{0:04d}'.format(n), 'T7', 'T7term' ) for n in range( n_samples ) ]\n",
    "    df = pandas.DataFrame(dat, columns=[ 'sample_name', 'fwd', 'rev' ]) \n",
    "    df[ 'source_pt' ] = pt\n",
    "    dfs.append( df ) \n",
    "df = pandas.concat( dfs ) \n",
    "df.reset_index( inplace=True ) "
   ]
  },
  {
   "cell_type": "code",
   "execution_count": 124,
   "metadata": {
    "collapsed": false
   },
   "outputs": [
    {
     "data": {
      "text/plain": [
       "(360, 5)"
      ]
     },
     "execution_count": 124,
     "metadata": {},
     "output_type": "execute_result"
    }
   ],
   "source": [
    "df.shape"
   ]
  },
  {
   "cell_type": "code",
   "execution_count": 125,
   "metadata": {
    "collapsed": false
   },
   "outputs": [
    {
     "data": {
      "text/html": [
       "<div>\n",
       "<table border=\"1\" class=\"dataframe\">\n",
       "  <thead>\n",
       "    <tr style=\"text-align: right;\">\n",
       "      <th></th>\n",
       "      <th>index</th>\n",
       "      <th>sample_name</th>\n",
       "      <th>fwd</th>\n",
       "      <th>rev</th>\n",
       "      <th>source_pt</th>\n",
       "    </tr>\n",
       "  </thead>\n",
       "  <tbody>\n",
       "    <tr>\n",
       "      <th>333</th>\n",
       "      <td>281</td>\n",
       "      <td>sample_0281</td>\n",
       "      <td>T7</td>\n",
       "      <td>T7term</td>\n",
       "      <td>1</td>\n",
       "    </tr>\n",
       "    <tr>\n",
       "      <th>346</th>\n",
       "      <td>294</td>\n",
       "      <td>sample_0294</td>\n",
       "      <td>T7</td>\n",
       "      <td>T7term</td>\n",
       "      <td>1</td>\n",
       "    </tr>\n",
       "    <tr>\n",
       "      <th>348</th>\n",
       "      <td>296</td>\n",
       "      <td>sample_0296</td>\n",
       "      <td>T7</td>\n",
       "      <td>T7term</td>\n",
       "      <td>1</td>\n",
       "    </tr>\n",
       "    <tr>\n",
       "      <th>124</th>\n",
       "      <td>72</td>\n",
       "      <td>sample_0072</td>\n",
       "      <td>T7</td>\n",
       "      <td>T7term</td>\n",
       "      <td>1</td>\n",
       "    </tr>\n",
       "    <tr>\n",
       "      <th>355</th>\n",
       "      <td>303</td>\n",
       "      <td>sample_0303</td>\n",
       "      <td>T7</td>\n",
       "      <td>T7term</td>\n",
       "      <td>1</td>\n",
       "    </tr>\n",
       "  </tbody>\n",
       "</table>\n",
       "</div>"
      ],
      "text/plain": [
       "     index  sample_name fwd     rev  source_pt\n",
       "333    281  sample_0281  T7  T7term          1\n",
       "346    294  sample_0294  T7  T7term          1\n",
       "348    296  sample_0296  T7  T7term          1\n",
       "124     72  sample_0072  T7  T7term          1\n",
       "355    303  sample_0303  T7  T7term          1"
      ]
     },
     "execution_count": 125,
     "metadata": {},
     "output_type": "execute_result"
    }
   ],
   "source": [
    "df.sample(5)"
   ]
  },
  {
   "cell_type": "code",
   "execution_count": 126,
   "metadata": {
    "collapsed": false
   },
   "outputs": [
    {
     "data": {
      "text/html": [
       "<div>\n",
       "<table border=\"1\" class=\"dataframe\">\n",
       "  <thead>\n",
       "    <tr style=\"text-align: right;\">\n",
       "      <th></th>\n",
       "      <th>index</th>\n",
       "      <th>sample_name</th>\n",
       "      <th>fwd</th>\n",
       "      <th>rev</th>\n",
       "      <th>source_pt</th>\n",
       "      <th>dest_pt</th>\n",
       "      <th>dest_well</th>\n",
       "    </tr>\n",
       "  </thead>\n",
       "  <tbody>\n",
       "    <tr>\n",
       "      <th>139</th>\n",
       "      <td>87</td>\n",
       "      <td>sample_0087</td>\n",
       "      <td>T7</td>\n",
       "      <td>T7term</td>\n",
       "      <td>1</td>\n",
       "      <td>0</td>\n",
       "      <td>139</td>\n",
       "    </tr>\n",
       "    <tr>\n",
       "      <th>55</th>\n",
       "      <td>3</td>\n",
       "      <td>sample_0003</td>\n",
       "      <td>T7</td>\n",
       "      <td>T7term</td>\n",
       "      <td>1</td>\n",
       "      <td>0</td>\n",
       "      <td>55</td>\n",
       "    </tr>\n",
       "    <tr>\n",
       "      <th>287</th>\n",
       "      <td>235</td>\n",
       "      <td>sample_0235</td>\n",
       "      <td>T7</td>\n",
       "      <td>T7term</td>\n",
       "      <td>1</td>\n",
       "      <td>0</td>\n",
       "      <td>287</td>\n",
       "    </tr>\n",
       "    <tr>\n",
       "      <th>31</th>\n",
       "      <td>31</td>\n",
       "      <td>sample_0031</td>\n",
       "      <td>T7</td>\n",
       "      <td>T7term</td>\n",
       "      <td>0</td>\n",
       "      <td>0</td>\n",
       "      <td>31</td>\n",
       "    </tr>\n",
       "    <tr>\n",
       "      <th>188</th>\n",
       "      <td>136</td>\n",
       "      <td>sample_0136</td>\n",
       "      <td>T7</td>\n",
       "      <td>T7term</td>\n",
       "      <td>1</td>\n",
       "      <td>0</td>\n",
       "      <td>188</td>\n",
       "    </tr>\n",
       "  </tbody>\n",
       "</table>\n",
       "</div>"
      ],
      "text/plain": [
       "     index  sample_name fwd     rev  source_pt  dest_pt  dest_well\n",
       "139     87  sample_0087  T7  T7term          1        0        139\n",
       "55       3  sample_0003  T7  T7term          1        0         55\n",
       "287    235  sample_0235  T7  T7term          1        0        287\n",
       "31      31  sample_0031  T7  T7term          0        0         31\n",
       "188    136  sample_0136  T7  T7term          1        0        188"
      ]
     },
     "execution_count": 126,
     "metadata": {},
     "output_type": "execute_result"
    }
   ],
   "source": [
    "df[ 'dest_pt' ] = df.index.map( lambda x: x // 1536 ) \n",
    "df[ 'dest_well' ] = df.index.map( lambda x: x % 1536 ) \n",
    "df.sample( 5 ) "
   ]
  },
  {
   "cell_type": "code",
   "execution_count": 127,
   "metadata": {
    "collapsed": false
   },
   "outputs": [
    {
     "name": "stdout",
     "output_type": "stream",
     "text": [
      "\n",
      "This operation will condense 2 sample plates\n",
      "into 1 PCR plates using 1,080 Echo operations\n",
      "and 4 arm moves \n",
      "\n"
     ]
    }
   ],
   "source": [
    "fmt_str = '''\n",
    "This operation will condense {n_sample_pt} sample plates\n",
    "into {n_pcr_pt} PCR plates using {n_ops:,} Echo operations\n",
    "and {n_pt_ops} arm moves \n",
    "'''\n",
    "\n",
    "params = {\n",
    "    'n_sample_pt': len( df.source_pt.unique() ), \n",
    "    'n_pcr_pt': len( df.dest_pt.unique() ),\n",
    "    'n_ops': len( df ) * 3, \n",
    "    'n_pt_ops': len( df.source_pt.unique() ) * 2, \n",
    "}\n",
    "\n",
    "print( fmt_str.format( **params ) ) "
   ]
  },
  {
   "cell_type": "code",
   "execution_count": 132,
   "metadata": {
    "collapsed": false,
    "scrolled": false
   },
   "outputs": [
    {
     "name": "stdout",
     "output_type": "stream",
     "text": [
      "Arm: empty PCR plate to Echo\n",
      "Arm: sample plate 0 to Echo\n",
      "Arm: sample plate 0 to sealer\n",
      "Sealer: seal\n",
      "Arm: sample plate 0 to storage\n",
      "Arm: sample plate 1 to Echo\n",
      "Arm: sample plate 1 to sealer\n",
      "Sealer: seal\n",
      "Arm: sample plate 1 to storage\n",
      "Arm: primer plate T7 to Echo\n",
      "Arm: primer plate T7 to sealer\n",
      "Sealer: seal primer plate T7\n",
      "Arm: primer plate T7 to hotel\n",
      "Arm: primer plate T7term to Echo\n",
      "Arm: primer plate T7term to sealer\n",
      "Sealer: seal primer plate T7term\n",
      "Arm: primer plate T7term to hotel\n",
      "\n",
      "This operation will condense 2 sample plates\n",
      "into 1 PCR plates using 1,080 Echo operations\n",
      "and 11 arm moves \n",
      "\n",
      "Total time: 0 hr 09 min 21 sec\n"
     ]
    }
   ],
   "source": [
    "arm_moves = 0\n",
    "echo_moves = 0 \n",
    "seal_moves = 0\n",
    "\n",
    "for dest_pt, g in df.groupby( 'dest_pt' ):\n",
    "    print( 'Arm: empty PCR plate to Echo' ) \n",
    "    arm_moves += 1\n",
    "    for sample_pt, h in g.groupby( 'source_pt' ):\n",
    "        print( 'Arm: sample plate {} to Echo'.format( sample_pt ) )\n",
    "        arm_moves += 1 \n",
    "        for idx, row in h.iterrows():\n",
    "            #print( 'Echo: 5 nL from {} to {}'.format( row['index'], row['dest_well'] ) ) \n",
    "            echo_moves += 1\n",
    "        print( 'Arm: sample plate {} to sealer'.format( sample_pt ) )\n",
    "        arm_moves += 1\n",
    "        print( 'Sealer: seal' ) \n",
    "        seal_moves += 1\n",
    "        print( 'Arm: sample plate {} to storage'.format( sample_pt ) )\n",
    "        arm_moves += 1\n",
    "                    \n",
    "for fwd_primer, g in df.groupby( 'fwd' ):\n",
    "    print( 'Arm: primer plate {} to Echo'.format( fwd_primer ) ) \n",
    "    arm_moves += 1\n",
    "    for idx, row in g.iterrows():\n",
    "        echo_moves += 1 \n",
    "    print( 'Arm: primer plate {} to sealer'.format( fwd_primer ) )\n",
    "    arm_moves += 1\n",
    "    print( 'Sealer: seal primer plate {}'.format( fwd_primer ) )\n",
    "    seal_moves += 1 \n",
    "    print( 'Arm: primer plate {} to hotel'.format( fwd_primer ) )\n",
    "        \n",
    "for fwd_primer, g in df.groupby( 'rev' ):\n",
    "    print( 'Arm: primer plate {} to Echo'.format( fwd_primer ) ) \n",
    "    arm_moves += 1\n",
    "    for idx, row in g.iterrows():\n",
    "        echo_moves += 1 \n",
    "    print( 'Arm: primer plate {} to sealer'.format( fwd_primer ) )\n",
    "    arm_moves += 1\n",
    "    print( 'Sealer: seal primer plate {}'.format( fwd_primer ) )\n",
    "    seal_moves += 1 \n",
    "    print( 'Arm: primer plate {} to hotel'.format( fwd_primer ) )\n",
    "\n",
    "seconds_per_echo = 0.2 \n",
    "seconds_per_arm = 15 \n",
    "seconds_per_seal = 45\n",
    "total_seconds = \\\n",
    "    ( seconds_per_arm * arm_moves ) + \\\n",
    "    ( seconds_per_echo * echo_moves ) + \\\n",
    "    ( seconds_per_seal * seal_moves ) \n",
    "m, s = divmod(total_seconds, 60)\n",
    "h, m = divmod(m, 60)\n",
    "\n",
    "\n",
    "\n",
    "fmt_str = '''\n",
    "This operation will condense {n_sample_pt} sample plates\n",
    "into {n_pcr_pt} PCR plate{plural} using {n_ops:,} Echo operations\n",
    "and {n_pt_ops} arm moves \n",
    "'''\n",
    "\n",
    "params = {\n",
    "    'n_sample_pt': len( df.source_pt.unique() ), \n",
    "    'n_pcr_pt': len( df.dest_pt.unique() ),\n",
    "    'n_ops': echo_moves, \n",
    "    'n_pt_ops': arm_moves, \n",
    "    'plural': 's',\n",
    "}\n",
    "\n",
    "print( fmt_str.format( **params ) ) \n",
    "\n",
    "print( 'Total time:', \"%d hr %02d min %02d sec\" % (h, m, s) )"
   ]
  },
  {
   "cell_type": "code",
   "execution_count": null,
   "metadata": {
    "collapsed": true
   },
   "outputs": [],
   "source": []
  }
 ],
 "metadata": {
  "kernelspec": {
   "display_name": "Python [conda root]",
   "language": "python",
   "name": "conda-root-py"
  },
  "language_info": {
   "codemirror_mode": {
    "name": "ipython",
    "version": 3
   },
   "file_extension": ".py",
   "mimetype": "text/x-python",
   "name": "python",
   "nbconvert_exporter": "python",
   "pygments_lexer": "ipython3",
   "version": "3.5.2"
  }
 },
 "nbformat": 4,
 "nbformat_minor": 2
}
