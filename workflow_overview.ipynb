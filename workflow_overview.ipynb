{
 "cells": [
  {
   "cell_type": "code",
   "execution_count": 9,
   "metadata": {
    "collapsed": true
   },
   "outputs": [],
   "source": [
    "import numpy as np"
   ]
  },
  {
   "cell_type": "markdown",
   "metadata": {},
   "source": [
    "## Neat Sequencing workflow overview \n",
    "\n",
    "### Plate receipt\n",
    "\n",
    "Each day, we recieve $n$plates in the mail. "
   ]
  },
  {
   "cell_type": "code",
   "execution_count": 10,
   "metadata": {
    "collapsed": true
   },
   "outputs": [],
   "source": [
    "n = np.random.randint( 0, 100 ) "
   ]
  },
  {
   "cell_type": "markdown",
   "metadata": {},
   "source": [
    "### Molecular barcoding \n",
    "\n",
    "First, each sample needs to be associated with a unique molecular barcode. For this, we have 192 barcodes with adapter A, and 192 with adapter B. \n",
    "\n",
    "#### Liquid handling \n",
    "\n",
    "1. make master mix by cloning our barcode plate into PCR master mix \n",
    "2. see notebook barcode_scheme for detailed barcoding scheme \n",
    "\n",
    "#### PCR-based assembly of barcoded amplicons \n",
    "\n",
    "1. **HUMAN**: after LH, mix, seal, and spin down, put in thermal cycler "
   ]
  },
  {
   "cell_type": "markdown",
   "metadata": {},
   "source": [
    "\n",
    "### Pooling \n",
    "\n",
    "At this point, all samples are barcoded, so we can pool them. This same plate goes back on the Echo. Pooling will take quite a while no matter how you slice it. \n",
    "\n",
    "2. After thermal cycle, unseal, back in Echo \n",
    "3. We recklessly pool everything in equal volume, or use crude A260 measurement to guide pooling. We do not use Qubit, because it is too expensive \n",
    "3. To pool, transfer 100 nL of each well into each well of destination plate with Echo? Or why not use conventional liquid handler to pool all volume in tube, mix well, and then get small amount. Either way, this program depends only on well indicies. "
   ]
  },
  {
   "cell_type": "markdown",
   "metadata": {},
   "source": [
    "### [SMRTbell template preparation](http://www.umich.edu/~caparray/products/ngs/pacbio/Pacific%20Biosciences%20Template%20Preparation%20and%20Sequencing.pdf)\n",
    "\n",
    "Can de done by human in < 4 hours. To automate, consider the following steps:\n",
    "\n",
    "#### Ligate adapters \n",
    "\n",
    "> shipped as 20 μM oligonucleotide stock and are pre-annealed\n",
    "\n",
    "1. 30 µL DNA + 1 µL blunt adapter + buffer + 0.6 µL ligase (according to Yuko, works just as well as 1.0 µL) to final volume 40 µL. \n",
    "2. Incubate at 65 ˚C for 15 minutes–24 hours, storage for up to 24 hours at 4 c at this step, heat to 65 ˚C to inactivate ligase, and cool to 4 ˚C, immediately proceed to adding exo \n",
    "3. add 2 exos, 37 for 1 hour  \n",
    "4. **Size selection** \n",
    "5. Use \"Calculator\" tool to set up primer binding \n",
    "6. Add primer, time? \n",
    "\n",
    "#### Bind polymerase to SMRTbell templates \n",
    "\n",
    "1. Add polymerase, 4 hours at 30 ˚C (Rita uses shorter time) \n",
    "\n",
    "#### Bind to beads \n",
    "\n",
    "1. Add beads\n",
    "\n",
    "#### Load into SMRTcell \n",
    "\n",
    "1. Optimal loading concentration 37% ZMW \n",
    "1. Load time is 30 minutes \n",
    "\n"
   ]
  },
  {
   "cell_type": "markdown",
   "metadata": {},
   "source": [
    "**Plates are held at 4 ˚C until we have enough to continue**"
   ]
  },
  {
   "cell_type": "code",
   "execution_count": null,
   "metadata": {
    "collapsed": true
   },
   "outputs": [],
   "source": []
  }
 ],
 "metadata": {
  "kernelspec": {
   "display_name": "Python [conda root]",
   "language": "python",
   "name": "conda-root-py"
  },
  "language_info": {
   "codemirror_mode": {
    "name": "ipython",
    "version": 3
   },
   "file_extension": ".py",
   "mimetype": "text/x-python",
   "name": "python",
   "nbconvert_exporter": "python",
   "pygments_lexer": "ipython3",
   "version": "3.5.2"
  }
 },
 "nbformat": 4,
 "nbformat_minor": 2
}
